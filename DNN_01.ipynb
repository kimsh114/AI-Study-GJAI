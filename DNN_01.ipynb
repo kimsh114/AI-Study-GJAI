{
 "cells": [
  {
   "cell_type": "markdown",
   "id": "170a9d36",
   "metadata": {},
   "source": [
    "- 딥러닝에서는 히든레이어의 개수와 노드의 개수가 하이퍼 파라메터 이다.\n",
    "- 회귀 문제는 오로지 하나이다.\n",
    "- 노드의 내부는 z값 계산과 활성함수 sigmoid(이진분류로 사용됨)로 구성이 되어 있다.\n",
    "\n",
    "### 단층 퍼셉트론\n",
    "- 값을 보내는 단계(입력층)와 값을 받아서 출력하는(출력층) 두 단계로만 이루어진다"
   ]
  },
  {
   "cell_type": "markdown",
   "id": "1719f66a",
   "metadata": {},
   "source": [
    "## 논리게이트(Logic gate) 클래스 구현"
   ]
  },
  {
   "cell_type": "code",
   "execution_count": 1,
   "id": "3ae7f410",
   "metadata": {},
   "outputs": [],
   "source": [
    "import numpy as np"
   ]
  },
  {
   "cell_type": "code",
   "execution_count": 2,
   "id": "5222bb54",
   "metadata": {},
   "outputs": [],
   "source": [
    "def sigmoid(x): \n",
    "    return 1. / (1. + np.exp(-x))\n",
    "\n",
    "def numerical_derivative(f, x):\n",
    "    delta_x = 1e-4 # 0.0001\n",
    "    grad = np.zeros_like(x)\n",
    "\n",
    "    it = np.nditer(x, flags=['multi_index'], op_flags=['readwrite'])\n",
    "    \n",
    "    while not it.finished:\n",
    "        idx = it.multi_index \n",
    "        tmp_val = x[idx]\n",
    "        x[idx] = float(tmp_val) + delta_x\n",
    "        fx1 = f(x) # f(x+delta_x)\n",
    "        x[idx] = float(tmp_val) - delta_x \n",
    "        fx2 = f(x) # f(x-delta_x)\n",
    "        grad[idx] = (fx1 - fx2) / (2*delta_x)\n",
    "        x[idx] = tmp_val \n",
    "        it.iternext() \n",
    "    return grad"
   ]
  },
  {
   "cell_type": "code",
   "execution_count": 3,
   "id": "5b281df3",
   "metadata": {},
   "outputs": [],
   "source": [
    "class LogicGate:\n",
    "    def __init__(self, gate_name, xdata, tdata): \n",
    "        self.name = gate_name\n",
    "        self.xdata = xdata.reshape(4,2) # 입력 데이터 초기화\n",
    "        self.tdata = tdata.reshape(4,1) # 정답 데이터 초기화\n",
    "        # 가중치 W,  바이어스 b, 초기화\n",
    "        self.W = np.random.rand(self.xdata.shape[1], 1) \n",
    "        self.b = np.random.rand(1) \n",
    "        self.learning_rate = 1e-2 # 학습률 learning rate 초기화\n",
    "\n",
    "    def loss_func(self): # 분류작업 cross entropy\n",
    "        delta = 1e-7 # log 무한대 발산 방지\n",
    "        z = np.dot(self.xdata, self.W) + self.b\n",
    "        y = sigmoid(z)\n",
    "        return -np.sum(self.tdata*np.log(y+delta)+(1-self.tdata)*np.log((1 - y)+delta))\n",
    "\n",
    "    def train(self): # 경사하강법 이용하여 W, b 업데이트\n",
    "        f = lambda x : self.loss_func()\n",
    "        print(\"Initial loss value = \", self.loss_func()) \n",
    "        for step in range(8001):\n",
    "            self.W -= self.learning_rate * numerical_derivative(f, self.W) \n",
    "            self.b -= self.learning_rate * numerical_derivative(f, self.b)\n",
    "            if (step % 1000 == 0):\n",
    "                print(\"step = \", step, \"loss value = \", self.loss_func())\n",
    "                \n",
    "    def predict(self, input_data): # 미래 값 예측\n",
    "        z = np.dot(input_data, self.W) + self.b\n",
    "        y = sigmoid(z) \n",
    "        if y > 0.5:\n",
    "            result = 1\n",
    "        else:\n",
    "            result = 0\n",
    "        return y, result # y는 확률값이 된다. \n",
    "    \n",
    "    \n",
    "    # 정확도 예측 함수(추가 내용)\n",
    "    def accuracy(self, test_xdata, test_tdata):\n",
    "        matched_list = []\n",
    "        not_matched_list = []\n",
    "        for index in range(len(xdata)):\n",
    "            (real_val, logical_val) = self.predict(test_xdata[index])\n",
    "            if logical_val == test_tdata[index]:\n",
    "                matched_list.append(index)\n",
    "            else:\n",
    "                not_matched_list.append(index)\n",
    "        accuracy_val = len(matched_list) / len(test_xdata)\n",
    "        return accuracy_val"
   ]
  },
  {
   "cell_type": "code",
   "execution_count": null,
   "id": "fec0ff45",
   "metadata": {},
   "outputs": [],
   "source": []
  },
  {
   "cell_type": "code",
   "execution_count": 4,
   "id": "53de8d62",
   "metadata": {},
   "outputs": [
    {
     "name": "stdout",
     "output_type": "stream",
     "text": [
      "Initial loss value =  3.666336487111259\n",
      "step =  0 loss value =  3.6353532879597963\n",
      "step =  1000 loss value =  1.0647475528114203\n",
      "step =  2000 loss value =  0.68388201958218\n",
      "step =  3000 loss value =  0.5045121130198832\n",
      "step =  4000 loss value =  0.3986110137413446\n",
      "step =  5000 loss value =  0.3286679171921061\n",
      "step =  6000 loss value =  0.2791140820975628\n",
      "step =  7000 loss value =  0.24223746010412417\n",
      "step =  8000 loss value =  0.21376998921334836\n"
     ]
    }
   ],
   "source": [
    "#AND 논리 게이트 검증\n",
    "\n",
    "xdata = np.array([ [0, 0], [0, 1], [1, 0], [1, 1] ]) \n",
    "tdata = np.array([0, 0, 0, 1])\n",
    "AND_obj = LogicGate(\"AND_GATE\", xdata, tdata) \n",
    "AND_obj.train() "
   ]
  },
  {
   "cell_type": "code",
   "execution_count": 5,
   "id": "211833f0",
   "metadata": {},
   "outputs": [
    {
     "name": "stdout",
     "output_type": "stream",
     "text": [
      "[0 0]  =  0\n",
      "[0 1]  =  0\n",
      "[1 0]  =  0\n",
      "[1 1]  =  1\n"
     ]
    }
   ],
   "source": [
    "#AND 논리 게이트 검증\n",
    "\n",
    "test_xdata = np.array([ [0, 0], [0, 1], [1, 0], [1, 1] ])\n",
    "for input_data in test_xdata:\n",
    "    (sigmoid_val, logical_val) = AND_obj.predict(input_data) \n",
    "    print(input_data, \" = \", logical_val) "
   ]
  },
  {
   "cell_type": "code",
   "execution_count": 6,
   "id": "7c93fcc6",
   "metadata": {},
   "outputs": [
    {
     "name": "stdout",
     "output_type": "stream",
     "text": [
      "Accuracy =>  1.0\n"
     ]
    }
   ],
   "source": [
    "test_tdata = np.array([ 0, 0, 0, 1])\n",
    "accuracy_ret = AND_obj.accuracy(test_xdata, test_tdata)\n",
    "print(\"Accuracy =>\", accuracy_ret)"
   ]
  },
  {
   "cell_type": "code",
   "execution_count": 7,
   "id": "c6b96115",
   "metadata": {},
   "outputs": [
    {
     "name": "stdout",
     "output_type": "stream",
     "text": [
      "Initial loss value =  1.8115524241499779\n",
      "step =  0 loss value =  1.808384814860258\n",
      "step =  1000 loss value =  0.7148108776598129\n",
      "step =  2000 loss value =  0.42992665560623017\n",
      "step =  3000 loss value =  0.3028183512495276\n",
      "step =  4000 loss value =  0.23208052800635207\n",
      "step =  5000 loss value =  0.18743711817159592\n",
      "step =  6000 loss value =  0.15685999140760035\n",
      "step =  7000 loss value =  0.13467793655149876\n",
      "step =  8000 loss value =  0.11788640441206805\n"
     ]
    }
   ],
   "source": [
    "xdata = np.array([ [0, 0], [0, 1], [1, 0], [1, 1] ]) \n",
    "tdata = np.array([0, 1, 1, 1])\n",
    "OR_obj = LogicGate(\"OR_GATE\", xdata, tdata) \n",
    "OR_obj.train() "
   ]
  },
  {
   "cell_type": "code",
   "execution_count": 8,
   "id": "d2a3a244",
   "metadata": {},
   "outputs": [
    {
     "name": "stdout",
     "output_type": "stream",
     "text": [
      "[0 0]  =  0\n",
      "[0 1]  =  1\n",
      "[1 0]  =  1\n",
      "[1 1]  =  1\n"
     ]
    }
   ],
   "source": [
    "# • OR 논리 게이트 검증\n",
    "test_xdata = np.array([ [0, 0], [0, 1], [1, 0], [1, 1] ])\n",
    "for input_data in test_xdata:\n",
    "    (sigmoid_val, logical_val) = OR_obj.predict(input_data) \n",
    "    print(input_data, \" = \", logical_val) "
   ]
  },
  {
   "cell_type": "code",
   "execution_count": 9,
   "id": "fb78dddf",
   "metadata": {},
   "outputs": [
    {
     "name": "stdout",
     "output_type": "stream",
     "text": [
      "--------------------\n",
      "Accuracy =>  1.0\n"
     ]
    }
   ],
   "source": [
    "print('--------------------')\n",
    "test_tdata = np.array([ 0, 1, 1, 1])\n",
    "accuracy_ret = OR_obj.accuracy(test_xdata, test_tdata)\n",
    "print(\"Accuracy => \", accuracy_ret)"
   ]
  },
  {
   "cell_type": "code",
   "execution_count": 10,
   "id": "2519c732",
   "metadata": {},
   "outputs": [
    {
     "name": "stdout",
     "output_type": "stream",
     "text": [
      "Initial loss value =  3.0330778948134736\n",
      "step =  0 loss value =  3.025049020805387\n",
      "step =  1000 loss value =  1.074174852442457\n",
      "step =  2000 loss value =  0.6875638264208341\n",
      "step =  3000 loss value =  0.5065290691605653\n",
      "step =  4000 loss value =  0.3998869950676954\n",
      "step =  5000 loss value =  0.32954614913175323\n",
      "step =  6000 loss value =  0.2797540005305748\n",
      "step =  7000 loss value =  0.24272354101974544\n",
      "step =  8000 loss value =  0.21415117520618804\n"
     ]
    }
   ],
   "source": [
    "# • NAND 논리 게이트 검증\n",
    "\n",
    "xdata = np.array([ [0, 0], [0, 1], [1, 0], [1, 1] ]) \n",
    "tdata = np.array([1, 1, 1, 0])\n",
    "NAND_obj = LogicGate(\"NAND_GATE\", xdata, tdata) \n",
    "NAND_obj.train() "
   ]
  },
  {
   "cell_type": "code",
   "execution_count": 11,
   "id": "a6ff708e",
   "metadata": {},
   "outputs": [
    {
     "name": "stdout",
     "output_type": "stream",
     "text": [
      "[0 0]  =  1\n",
      "[0 1]  =  1\n",
      "[1 0]  =  1\n",
      "[1 1]  =  0\n"
     ]
    }
   ],
   "source": [
    "test_xdata = np.array([ [0, 0], [0, 1], [1, 0], [1, 1] ])\n",
    "for input_data in test_xdata:\n",
    "    (sigmoid_val, logical_val) = NAND_obj.predict(input_data) \n",
    "    print(input_data, \" = \", logical_val) "
   ]
  },
  {
   "cell_type": "code",
   "execution_count": 12,
   "id": "a9f05141",
   "metadata": {},
   "outputs": [
    {
     "name": "stdout",
     "output_type": "stream",
     "text": [
      "--------------------\n",
      "Accuracy =>  1.0\n"
     ]
    }
   ],
   "source": [
    "print('--------------------') \n",
    "test_tdata = np.array([ 1, 1, 1, 0])\n",
    "accuracy_ret = NAND_obj.accuracy(test_xdata, test_tdata)\n",
    "print(\"Accuracy => \", accuracy_ret)"
   ]
  },
  {
   "cell_type": "code",
   "execution_count": 13,
   "id": "b94251d0",
   "metadata": {},
   "outputs": [
    {
     "name": "stdout",
     "output_type": "stream",
     "text": [
      "Initial loss value =  3.7652467152401763\n",
      "step =  0 loss value =  3.741948686280553\n",
      "step =  1000 loss value =  2.7727511011576964\n",
      "step =  2000 loss value =  2.7725945337048215\n",
      "step =  3000 loss value =  2.772588202517908\n",
      "step =  4000 loss value =  2.7725879342093767\n",
      "step =  5000 loss value =  2.7725879227516232\n",
      "step =  6000 loss value =  2.7725879222617458\n",
      "step =  7000 loss value =  2.772587922240797\n",
      "step =  8000 loss value =  2.772587922239901\n"
     ]
    }
   ],
   "source": [
    "# • XOR 논리 게이트 검증\n",
    "xdata = np.array([ [0, 0], [0, 1], [1, 0], [1, 1] ]) \n",
    "tdata = np.array([0, 1, 1, 0])\n",
    "XOR_obj = LogicGate(\"XOR_GATE\", xdata, tdata) \n",
    "XOR_obj.train()"
   ]
  },
  {
   "cell_type": "code",
   "execution_count": 14,
   "id": "97899b7c",
   "metadata": {},
   "outputs": [
    {
     "name": "stdout",
     "output_type": "stream",
     "text": [
      "--------------------\n",
      "Accuracy =>  0.25\n"
     ]
    }
   ],
   "source": [
    "print('--------------------') \n",
    "test_tdata = np.array([ 0, 1, 1, 0])\n",
    "accuracy_ret = XOR_obj.accuracy(test_xdata, test_tdata)\n",
    "print(\"Accuracy => \", accuracy_ret)\n"
   ]
  },
  {
   "cell_type": "markdown",
   "id": "9fae42cb",
   "metadata": {},
   "source": [
    "---------------------------------------------------------"
   ]
  },
  {
   "cell_type": "code",
   "execution_count": 16,
   "id": "c5feb55d",
   "metadata": {},
   "outputs": [
    {
     "name": "stdout",
     "output_type": "stream",
     "text": [
      "Initial loss value =  2.868169290868014\n",
      "step =  0 loss value =  2.8534992720367445\n",
      "step =  1000 loss value =  1.027410154390539\n",
      "step =  2000 loss value =  0.6687366411131563\n",
      "step =  3000 loss value =  0.49614134819972405\n",
      "step =  4000 loss value =  0.39329300374371445\n",
      "step =  5000 loss value =  0.3249978720829997\n",
      "step =  6000 loss value =  0.2764348863428512\n",
      "step =  7000 loss value =  0.2401994674388052\n",
      "step =  8000 loss value =  0.2121700219309073\n",
      "Initial loss value =  1.6959620862089926\n",
      "step =  0 loss value =  1.6927250290221323\n",
      "step =  1000 loss value =  0.6852838735507614\n",
      "step =  2000 loss value =  0.4180697096831689\n",
      "step =  3000 loss value =  0.29662731778987195\n",
      "step =  4000 loss value =  0.22833433461516675\n",
      "step =  5000 loss value =  0.18494601252291087\n",
      "step =  6000 loss value =  0.15509175324254382\n",
      "step =  7000 loss value =  0.13336150487411805\n",
      "step =  8000 loss value =  0.11687012740418498\n",
      "Initial loss value =  3.049013456734871\n",
      "step =  0 loss value =  3.0431571990957442\n",
      "step =  1000 loss value =  1.0927814813445513\n",
      "step =  2000 loss value =  0.6949111960220866\n",
      "step =  3000 loss value =  0.5105431248588116\n",
      "step =  4000 loss value =  0.4024208329343715\n",
      "step =  5000 loss value =  0.33128752565000263\n",
      "step =  6000 loss value =  0.28102148034271135\n",
      "step =  7000 loss value =  0.24368553698753215\n",
      "step =  8000 loss value =  0.21490509768299781\n"
     ]
    }
   ],
   "source": [
    "xdata = np.array([ [0, 0], [0, 1], [1, 0], [1, 1] ]) \n",
    "tdata = np.array([0, 0, 0, 1])\n",
    "AND_obj = LogicGate(\"AND_GATE\", xdata, tdata) \n",
    "AND_obj.train() \n",
    "\n",
    "\n",
    "xdata = np.array([ [0, 0], [0, 1], [1, 0], [1, 1] ]) \n",
    "tdata = np.array([0, 1, 1, 1])\n",
    "OR_obj = LogicGate(\"OR_GATE\", xdata, tdata) \n",
    "OR_obj.train() \n",
    "\n",
    "\n",
    "xdata = np.array([ [0, 0], [0, 1], [1, 0], [1, 1] ]) \n",
    "tdata = np.array([1, 1, 1, 0])\n",
    "NAND_obj = LogicGate(\"NAND_GATE\", xdata, tdata) \n",
    "NAND_obj.train() "
   ]
  },
  {
   "cell_type": "code",
   "execution_count": 19,
   "id": "0e7868bf",
   "metadata": {},
   "outputs": [
    {
     "name": "stdout",
     "output_type": "stream",
     "text": [
      "[0 0] = 0\n",
      "[0 1] = 1\n",
      "[1 0] = 1\n",
      "[1 1] = 0\n"
     ]
    }
   ],
   "source": [
    "input_data = np.array([[0,0], [0,1],[1,0],[1,1]])\n",
    "s1 = []\n",
    "s2 = []\n",
    "new_input_data = []\n",
    "final_output = []\n",
    "for index in range(len(input_data)):\n",
    "    s1 = NAND_obj.predict(input_data[index]) # NAND gate해서 1이 나옴\n",
    "    s2 = OR_obj.predict(input_data[index]) # OR gate 해서 0이 나옴\n",
    "    new_input_data.append(s1[-1])\n",
    "    new_input_data.append(s2[-1])\n",
    "    (sigmoid_val, logical_val) = AND_obj.predict(np.array(new_input_data)) # sigmoid_val => 확률값이 들어온다.\n",
    "    final_output.append(logical_val)\n",
    "    new_input_data = []\n",
    "    \n",
    "for index in range(len(input_data)):\n",
    "    print(input_data[index], '=', final_output[index])\n",
    "    # 한 번만에 결과를 못 구한다는 것이 중요하다(중간 단계의 은닉층이 필요하다.)"
   ]
  },
  {
   "cell_type": "code",
   "execution_count": null,
   "id": "2462a6c2",
   "metadata": {},
   "outputs": [],
   "source": []
  },
  {
   "cell_type": "code",
   "execution_count": null,
   "id": "f4a1115a",
   "metadata": {},
   "outputs": [],
   "source": []
  },
  {
   "cell_type": "code",
   "execution_count": null,
   "id": "291b912c",
   "metadata": {},
   "outputs": [],
   "source": []
  },
  {
   "cell_type": "code",
   "execution_count": null,
   "id": "c5b295e6",
   "metadata": {},
   "outputs": [],
   "source": []
  },
  {
   "cell_type": "code",
   "execution_count": null,
   "id": "842a2c00",
   "metadata": {},
   "outputs": [],
   "source": []
  },
  {
   "cell_type": "code",
   "execution_count": null,
   "id": "6440232e",
   "metadata": {},
   "outputs": [],
   "source": []
  },
  {
   "cell_type": "code",
   "execution_count": null,
   "id": "d81ad72e",
   "metadata": {},
   "outputs": [],
   "source": []
  },
  {
   "cell_type": "code",
   "execution_count": null,
   "id": "282ea40d",
   "metadata": {},
   "outputs": [],
   "source": []
  },
  {
   "cell_type": "code",
   "execution_count": null,
   "id": "de6a286e",
   "metadata": {},
   "outputs": [],
   "source": []
  },
  {
   "cell_type": "code",
   "execution_count": null,
   "id": "222a9a4e",
   "metadata": {},
   "outputs": [],
   "source": []
  },
  {
   "cell_type": "code",
   "execution_count": null,
   "id": "2122a983",
   "metadata": {},
   "outputs": [],
   "source": []
  },
  {
   "cell_type": "code",
   "execution_count": null,
   "id": "7d7a1027",
   "metadata": {},
   "outputs": [],
   "source": []
  },
  {
   "cell_type": "code",
   "execution_count": null,
   "id": "d0b4585e",
   "metadata": {},
   "outputs": [],
   "source": []
  },
  {
   "cell_type": "code",
   "execution_count": null,
   "id": "48db947b",
   "metadata": {},
   "outputs": [],
   "source": []
  },
  {
   "cell_type": "code",
   "execution_count": null,
   "id": "cefc202c",
   "metadata": {},
   "outputs": [],
   "source": []
  },
  {
   "cell_type": "code",
   "execution_count": null,
   "id": "4d70abe7",
   "metadata": {},
   "outputs": [],
   "source": []
  },
  {
   "cell_type": "code",
   "execution_count": null,
   "id": "5cbaa94d",
   "metadata": {},
   "outputs": [],
   "source": []
  },
  {
   "cell_type": "code",
   "execution_count": null,
   "id": "742aefa2",
   "metadata": {},
   "outputs": [],
   "source": []
  },
  {
   "cell_type": "code",
   "execution_count": null,
   "id": "4c56cc14",
   "metadata": {},
   "outputs": [],
   "source": []
  },
  {
   "cell_type": "code",
   "execution_count": null,
   "id": "8abe4d66",
   "metadata": {},
   "outputs": [],
   "source": []
  },
  {
   "cell_type": "code",
   "execution_count": null,
   "id": "25538d08",
   "metadata": {},
   "outputs": [],
   "source": []
  },
  {
   "cell_type": "code",
   "execution_count": null,
   "id": "b4597149",
   "metadata": {},
   "outputs": [],
   "source": []
  },
  {
   "cell_type": "code",
   "execution_count": null,
   "id": "84167641",
   "metadata": {},
   "outputs": [],
   "source": []
  },
  {
   "cell_type": "code",
   "execution_count": null,
   "id": "92be073f",
   "metadata": {},
   "outputs": [],
   "source": []
  },
  {
   "cell_type": "code",
   "execution_count": null,
   "id": "e6e96e86",
   "metadata": {},
   "outputs": [],
   "source": []
  },
  {
   "cell_type": "code",
   "execution_count": null,
   "id": "428b7606",
   "metadata": {},
   "outputs": [],
   "source": []
  },
  {
   "cell_type": "code",
   "execution_count": null,
   "id": "27277506",
   "metadata": {},
   "outputs": [],
   "source": []
  },
  {
   "cell_type": "code",
   "execution_count": null,
   "id": "01bcb325",
   "metadata": {},
   "outputs": [],
   "source": []
  },
  {
   "cell_type": "code",
   "execution_count": null,
   "id": "f74a8e4d",
   "metadata": {},
   "outputs": [],
   "source": []
  },
  {
   "cell_type": "code",
   "execution_count": null,
   "id": "b754e3e5",
   "metadata": {},
   "outputs": [],
   "source": []
  },
  {
   "cell_type": "code",
   "execution_count": null,
   "id": "da4add54",
   "metadata": {},
   "outputs": [],
   "source": []
  },
  {
   "cell_type": "code",
   "execution_count": null,
   "id": "afa288b0",
   "metadata": {},
   "outputs": [],
   "source": []
  },
  {
   "cell_type": "code",
   "execution_count": null,
   "id": "ba771baa",
   "metadata": {},
   "outputs": [],
   "source": []
  },
  {
   "cell_type": "code",
   "execution_count": null,
   "id": "0bcc8afa",
   "metadata": {},
   "outputs": [],
   "source": []
  },
  {
   "cell_type": "code",
   "execution_count": null,
   "id": "57686573",
   "metadata": {},
   "outputs": [],
   "source": []
  },
  {
   "cell_type": "code",
   "execution_count": null,
   "id": "6c53dace",
   "metadata": {},
   "outputs": [],
   "source": []
  },
  {
   "cell_type": "code",
   "execution_count": null,
   "id": "9ea3ed01",
   "metadata": {},
   "outputs": [],
   "source": []
  },
  {
   "cell_type": "code",
   "execution_count": null,
   "id": "fc87b974",
   "metadata": {},
   "outputs": [],
   "source": []
  },
  {
   "cell_type": "code",
   "execution_count": null,
   "id": "bda69dc1",
   "metadata": {},
   "outputs": [],
   "source": []
  },
  {
   "cell_type": "code",
   "execution_count": null,
   "id": "bdaca0a9",
   "metadata": {},
   "outputs": [],
   "source": []
  },
  {
   "cell_type": "code",
   "execution_count": null,
   "id": "6876c731",
   "metadata": {},
   "outputs": [],
   "source": []
  }
 ],
 "metadata": {
  "kernelspec": {
   "display_name": "Python 3 (ipykernel)",
   "language": "python",
   "name": "python3"
  },
  "language_info": {
   "codemirror_mode": {
    "name": "ipython",
    "version": 3
   },
   "file_extension": ".py",
   "mimetype": "text/x-python",
   "name": "python",
   "nbconvert_exporter": "python",
   "pygments_lexer": "ipython3",
   "version": "3.7.9"
  }
 },
 "nbformat": 4,
 "nbformat_minor": 5
}
