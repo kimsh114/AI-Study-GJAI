{
 "cells": [
  {
   "cell_type": "markdown",
   "id": "bf2ad4d2",
   "metadata": {},
   "source": [
    "- 대규모 숫자계산을 해주는 라이브러리다.\n",
    "- 계산식을 먼저 만들어 놓고 데이터를 하나하나 넣으며 실행하는 구조이다. \n",
    "- 영상처리 기능도 있으며 그 때는 OpenCV라이브러리 등과 함께 사용한다.\n",
    "- c = a+b 라는 의미는 'a+b라는 연산을 c라고 정의한다' 라는 의미이다.( 파이썬에서는 a+b를 c에 대입한다는 의미임)\n",
    "텐서플로우1과 2를 동시에 사용하고 싶다면 파이썬 3.6. /3.7 버전을 사용하자,\n",
    " \n",
    "텐서플로우는 설치 후에 노트북을 재실행해야지 제대로 실행이 된다.\n",
    "\n",
    "pip install tensorflow       => 최신 버전이 깔림\n",
    "pip install tensorflow==1.15.0 \n",
    "pip install protobuf==3.20.*   # 1.15.0 버전이 오류뜨면 해결하기\n",
    "\n",
    "pip install --upgrade tensorflow    =>원하는 버전으로 업그레이드하기  \n",
    "\n",
    "- 현재는 1점대 버전이다. \n",
    "\n"
   ]
  },
  {
   "cell_type": "code",
   "execution_count": 1,
   "id": "9f4f602a",
   "metadata": {},
   "outputs": [],
   "source": [
    "import tensorflow as tf"
   ]
  },
  {
   "cell_type": "markdown",
   "id": "c501dd1e",
   "metadata": {},
   "source": [
    "### 예제 1"
   ]
  },
  {
   "cell_type": "code",
   "execution_count": 2,
   "id": "1c8cfd7e",
   "metadata": {},
   "outputs": [
    {
     "name": "stdout",
     "output_type": "stream",
     "text": [
      "Tensor(\"Const:0\", shape=(), dtype=float32)\n",
      "Tensor(\"add:0\", shape=(), dtype=float32)\n",
      "Tensor(\"Const_2:0\", shape=(2, 2), dtype=float32)\n"
     ]
    }
   ],
   "source": [
    "# 상수 노드 정의(constant) / 텐서플로우 1점대 버전에서 등호는 정의한다는 의미이다. \n",
    "a = tf.constant(1.0) \n",
    "b = tf.constant(2.0)\n",
    "c = tf.constant([ [1.0, 2.0], [3.0, 4.0] ])\n",
    "\n",
    "print(a) \n",
    "print(a+b)\n",
    "print(c)"
   ]
  },
  {
   "cell_type": "code",
   "execution_count": 3,
   "id": "fb60b715",
   "metadata": {},
   "outputs": [
    {
     "name": "stdout",
     "output_type": "stream",
     "text": [
      "[1.0, 2.0]\n",
      "[[1. 2.]\n",
      " [3. 4.]]\n",
      "[3.0]\n",
      "[[2. 3.]\n",
      " [4. 5.]]\n"
     ]
    }
   ],
   "source": [
    "# 세션 (session) 을 만들고 노드간의 텐서 연산 실행\n",
    "# sess = tf.Session() \n",
    "sess = tf.compat.v1.Session()\n",
    "print(sess.run([a, b])) \n",
    "print(sess.run(c))\n",
    "print(sess.run([a+b]))\n",
    "print(sess.run(c+1.0)) # numpy의 broadcast연산 수행\n",
    "\n",
    "# 세션 close\n",
    "sess.close() "
   ]
  },
  {
   "cell_type": "markdown",
   "id": "e8c452a4",
   "metadata": {},
   "source": [
    "### 예제2"
   ]
  },
  {
   "cell_type": "code",
   "execution_count": 4,
   "id": "74bc18a0",
   "metadata": {},
   "outputs": [
    {
     "name": "stdout",
     "output_type": "stream",
     "text": [
      "14\n",
      "20\n"
     ]
    }
   ],
   "source": [
    "# 상수 정의하기 --- (※2)\n",
    "a = tf.constant(2)\n",
    "b = tf.constant(3)\n",
    "c = tf.constant(4)\n",
    "\n",
    "# 연산 정의하기 --- (※3)\n",
    "calc1_op = a + b * c  # a + b * c을 calc1_op로 정의하기 \n",
    "calc2_op = (a + b) * c\n",
    "\n",
    "# 세션 시작하기 --- (※4)\n",
    "sess = tf.compat.v1.Session()\n",
    "res1 = sess.run(calc1_op) # 식 평가하기\n",
    "print(res1)\n",
    "res2 = sess.run(calc2_op) # 식 평가하기\n",
    "print(res2)\n",
    "# 세션 close\n",
    "sess.close() "
   ]
  },
  {
   "cell_type": "markdown",
   "id": "08ab29ad",
   "metadata": {},
   "source": [
    "### 플레이스홀더 노드(placeholder node)"
   ]
  },
  {
   "cell_type": "code",
   "execution_count": 5,
   "id": "164e2e00",
   "metadata": {},
   "outputs": [
    {
     "name": "stdout",
     "output_type": "stream",
     "text": [
      "WARNING:tensorflow:From C:\\Users\\82105\\AppData\\Local\\Temp\\ipykernel_24492\\509031093.py:3: The name tf.placeholder is deprecated. Please use tf.compat.v1.placeholder instead.\n",
      "\n",
      "4.0\n",
      "[4. 6.]\n"
     ]
    }
   ],
   "source": [
    "# ex1\n",
    "# 플레이스홀더 노드 정의\n",
    "a = tf.placeholder(tf.float32) \n",
    "b = tf.placeholder(tf.float32) \n",
    "c = a + b \n",
    "\n",
    "# 세션 (session) 을 만들고 플레이스홀더 노드를 통해 값 입력받음\n",
    "sess = tf.compat.v1.Session()\n",
    "print(sess.run(c, feed_dict={ a: 1.0, b: 3.0 })) \n",
    "print(sess.run(c, feed_dict={ a: [1.0, 2.0], b: [3.0, 4.0] })) \n",
    "\n",
    "# 세션 close\n",
    "sess.close() "
   ]
  },
  {
   "cell_type": "code",
   "execution_count": 6,
   "id": "253ecaa8",
   "metadata": {},
   "outputs": [
    {
     "name": "stdout",
     "output_type": "stream",
     "text": [
      "[2 4 6]\n",
      "[20 40 20]\n"
     ]
    }
   ],
   "source": [
    "# ex2\n",
    "# 플레이스홀더 정의하기 --- (※1)\n",
    "a = tf.placeholder(tf.int32, [3]) # 정수 자료형 3개를 가진 배열\n",
    "# 배열을 모든 값을 2배하는 연산 정의하기 --- (※2)\n",
    "# b는 상수 2를 정의\n",
    "b = tf.constant(2)\n",
    "x2_op = a * b\n",
    "\n",
    "# 세션 시작하기 --- (※3)\n",
    "sess = tf.compat.v1.Session()\n",
    "# 플레이스홀더에 값을 넣고 실행하기 --- (※4)\n",
    "r1 = sess.run(x2_op, feed_dict={ a:[1, 2, 3] })\n",
    "print(r1)\n",
    "r2 = sess.run(x2_op, feed_dict={ a:[10, 20, 10] })\n",
    "print(r2)\n",
    "\n",
    "# 세션 close\n",
    "sess.close()"
   ]
  },
  {
   "cell_type": "markdown",
   "id": "31263324",
   "metadata": {},
   "source": [
    "### 변수노드\n",
    "- 변수: 값을 변경가능(상수는 변경불가)"
   ]
  },
  {
   "cell_type": "code",
   "execution_count": 7,
   "id": "36c29555",
   "metadata": {},
   "outputs": [],
   "source": [
    "# ex1)\n",
    "\n",
    "# 값이 업데이트되는 변수노드 정의\n",
    "W1 = tf.Variable(tf.random.normal([1]))  # random.normal 상수 하나를 정해준다고 생각하자\n",
    "b1 = tf.Variable(tf.random.normal([1]))\n",
    "W2 = tf.Variable(tf.random.normal([1, 2])) \n",
    "b2 = tf.Variable(tf.random.normal([1, 2]))\n",
    "\n",
    "# 세션 생성\n",
    "sess = tf.compat.v1.Session()\n"
   ]
  },
  {
   "cell_type": "code",
   "execution_count": 8,
   "id": "1e495e18",
   "metadata": {},
   "outputs": [
    {
     "name": "stdout",
     "output_type": "stream",
     "text": [
      "step =  0 , W1 =  [1.4911053] , b1 =  [-0.3431087]\n",
      "step =  0 , W2 =  [[1.124854  1.5006057]] , b2 =  [[-1.3822865  -0.18949392]]\n",
      "step =  1 , W1 =  [0.49110532] , b1 =  [-1.3431087]\n",
      "step =  1 , W2 =  [[0.12485397 0.5006057 ]] , b2 =  [[-2.3822865 -1.1894939]]\n",
      "step =  2 , W1 =  [-1.5088947] , b1 =  [-3.3431087]\n",
      "step =  2 , W2 =  [[-1.875146  -1.4993943]] , b2 =  [[-4.3822865 -3.189494 ]]\n"
     ]
    }
   ],
   "source": [
    "# 변수노드 값 초기화. 변수노드를 정의했다면 반드시 필요함(tf.compat.v1.global_variables_initializer 이거를 만나야만이 변수에 대한 초기화 됨.)\n",
    "sess.run( tf.compat.v1.global_variables_initializer()) \n",
    "for step in range(3):\n",
    "    W1 = W1 - step \n",
    "    b1 = b1 - step\n",
    "    W2 = W2 - step \n",
    "    b2 = b2 - step\n",
    "    print(\"step = \", step, \", W1 = \", sess.run(W1), \", b1 = \", sess.run(b1))\n",
    "    print(\"step = \", step, \", W2 = \", sess.run(W2), \", b2 = \", sess.run(b2))\n",
    "sess.close() "
   ]
  },
  {
   "cell_type": "code",
   "execution_count": 9,
   "id": "128bf112",
   "metadata": {},
   "outputs": [],
   "source": [
    "# ex 2\n",
    "\n",
    "# feeding 값 선언\n",
    "input_data = [1,2,3,4,5] #리스트 객체(여기 부분은 일반 파이썬 소스코드임)\n",
    "# placeholder 변수 선언\n",
    "x = tf.placeholder(dtype=tf.float32)\n",
    "# W = 2라는 값 선언\n",
    "W = tf.Variable([2],dtype=tf.float32) # 2라는 값으로 초기화가 됨\n",
    "y = W * x"
   ]
  },
  {
   "cell_type": "code",
   "execution_count": 10,
   "id": "0413d0e0",
   "metadata": {},
   "outputs": [],
   "source": [
    "sess = tf.compat.v1.Session()\n",
    "# 변수 초기화 코드를 세션에 전달한다.\n",
    "sess.run(tf.compat.v1.global_variables_initializer())\n",
    "# y 그래프에 input_date feeding 하면서 세션 실행한다."
   ]
  },
  {
   "cell_type": "code",
   "execution_count": 11,
   "id": "2e887f4c",
   "metadata": {},
   "outputs": [
    {
     "name": "stdout",
     "output_type": "stream",
     "text": [
      "[ 2.  4.  6.  8. 10.]\n"
     ]
    }
   ],
   "source": [
    "result = sess.run(y,feed_dict={x:input_data})\n",
    "print(result) \n",
    "# 세션 close\n",
    "sess.close() "
   ]
  },
  {
   "cell_type": "code",
   "execution_count": 12,
   "id": "e2489219",
   "metadata": {},
   "outputs": [],
   "source": [
    "# ex3\n",
    "import tensorflow as tf\n",
    "# 상수 정의하기 --- (※1)\n",
    "# name을 이용해서 별칭 부여도 가능\n",
    "a = tf.constant(120)\n",
    "b = tf.constant(130)\n",
    "c = tf.constant(140)\n",
    "\n",
    "\n",
    "# 변수 정의하기 --- (※2)\n",
    "# 변수 v를 정의하고 초기치 0을 저장\n",
    "v = tf.Variable(0) "
   ]
  },
  {
   "cell_type": "code",
   "execution_count": 13,
   "id": "9da63f7e",
   "metadata": {},
   "outputs": [],
   "source": [
    "# 데이터 플로우 그래프 정의하기 --- (※3)\n",
    "calc_op = a + b + c\n",
    "assign_op = tf.compat.v1.assign(v, calc_op)\n"
   ]
  },
  {
   "cell_type": "code",
   "execution_count": 14,
   "id": "4480e5e1",
   "metadata": {},
   "outputs": [],
   "source": [
    "# 세션 실행하기 --- (※4)\n",
    "sess = tf.compat.v1.Session()\n",
    "# tf.global_variables_initializer() \n",
    "# 메소드를 사용하여 세션에 초기화 연산을 수행해야 하며, 변수에 메모리를 할당하고 초기값을 설정하는 역할을 한다"
   ]
  },
  {
   "cell_type": "code",
   "execution_count": 15,
   "id": "07b77018",
   "metadata": {},
   "outputs": [
    {
     "name": "stdout",
     "output_type": "stream",
     "text": [
      "WARNING:tensorflow:From C:\\Users\\82105\\AppData\\Local\\Temp\\ipykernel_24492\\1513716104.py:1: The name tf.global_variables_initializer is deprecated. Please use tf.compat.v1.global_variables_initializer instead.\n",
      "\n",
      "390\n"
     ]
    }
   ],
   "source": [
    "sess.run(tf.global_variables_initializer())\n",
    "sess.run(assign_op)\n",
    "# v의 내용 출력하기 --- (※5)\n",
    "print( sess.run(v) ) \n",
    "sess.close() "
   ]
  },
  {
   "cell_type": "markdown",
   "id": "1017c162",
   "metadata": {},
   "source": [
    "### 여기부터가 머신러닝과 관련된 작업이다. (ex4) // 잘 쓰지는 않는다고 함"
   ]
  },
  {
   "cell_type": "code",
   "execution_count": 16,
   "id": "4f117407",
   "metadata": {},
   "outputs": [],
   "source": [
    "import pandas as pd\n",
    "import numpy as np\n",
    "import tensorflow as tf\n",
    "csv = pd.read_csv(\"data/bmi.csv\")"
   ]
  },
  {
   "cell_type": "code",
   "execution_count": 17,
   "id": "434c9786",
   "metadata": {},
   "outputs": [],
   "source": [
    "# 데이터 정규화 --- (※2)\n",
    "csv[\"height\"] = csv[\"height\"] / 200 # 최대 키가 200\n",
    "csv[\"weight\"] = csv[\"weight\"] / 100 # 최대 몸무게가 100으로 가정함"
   ]
  },
  {
   "cell_type": "code",
   "execution_count": 28,
   "id": "3a853667",
   "metadata": {},
   "outputs": [
    {
     "data": {
      "text/html": [
       "<div>\n",
       "<style scoped>\n",
       "    .dataframe tbody tr th:only-of-type {\n",
       "        vertical-align: middle;\n",
       "    }\n",
       "\n",
       "    .dataframe tbody tr th {\n",
       "        vertical-align: top;\n",
       "    }\n",
       "\n",
       "    .dataframe thead th {\n",
       "        text-align: right;\n",
       "    }\n",
       "</style>\n",
       "<table border=\"1\" class=\"dataframe\">\n",
       "  <thead>\n",
       "    <tr style=\"text-align: right;\">\n",
       "      <th></th>\n",
       "      <th>height</th>\n",
       "      <th>weight</th>\n",
       "      <th>label</th>\n",
       "      <th>label_pat</th>\n",
       "    </tr>\n",
       "  </thead>\n",
       "  <tbody>\n",
       "    <tr>\n",
       "      <th>0</th>\n",
       "      <td>0.710</td>\n",
       "      <td>0.62</td>\n",
       "      <td>fat</td>\n",
       "      <td>[0, 0, 1]</td>\n",
       "    </tr>\n",
       "    <tr>\n",
       "      <th>1</th>\n",
       "      <td>0.710</td>\n",
       "      <td>0.73</td>\n",
       "      <td>fat</td>\n",
       "      <td>[0, 0, 1]</td>\n",
       "    </tr>\n",
       "    <tr>\n",
       "      <th>2</th>\n",
       "      <td>0.885</td>\n",
       "      <td>0.61</td>\n",
       "      <td>normal</td>\n",
       "      <td>[0, 1, 0]</td>\n",
       "    </tr>\n",
       "    <tr>\n",
       "      <th>3</th>\n",
       "      <td>0.935</td>\n",
       "      <td>0.48</td>\n",
       "      <td>thin</td>\n",
       "      <td>[1, 0, 0]</td>\n",
       "    </tr>\n",
       "    <tr>\n",
       "      <th>4</th>\n",
       "      <td>0.765</td>\n",
       "      <td>0.60</td>\n",
       "      <td>fat</td>\n",
       "      <td>[0, 0, 1]</td>\n",
       "    </tr>\n",
       "    <tr>\n",
       "      <th>...</th>\n",
       "      <td>...</td>\n",
       "      <td>...</td>\n",
       "      <td>...</td>\n",
       "      <td>...</td>\n",
       "    </tr>\n",
       "    <tr>\n",
       "      <th>19995</th>\n",
       "      <td>0.610</td>\n",
       "      <td>0.58</td>\n",
       "      <td>fat</td>\n",
       "      <td>[0, 0, 1]</td>\n",
       "    </tr>\n",
       "    <tr>\n",
       "      <th>19996</th>\n",
       "      <td>0.965</td>\n",
       "      <td>0.69</td>\n",
       "      <td>normal</td>\n",
       "      <td>[0, 1, 0]</td>\n",
       "    </tr>\n",
       "    <tr>\n",
       "      <th>19997</th>\n",
       "      <td>0.965</td>\n",
       "      <td>0.37</td>\n",
       "      <td>thin</td>\n",
       "      <td>[1, 0, 0]</td>\n",
       "    </tr>\n",
       "    <tr>\n",
       "      <th>19998</th>\n",
       "      <td>0.975</td>\n",
       "      <td>0.51</td>\n",
       "      <td>thin</td>\n",
       "      <td>[1, 0, 0]</td>\n",
       "    </tr>\n",
       "    <tr>\n",
       "      <th>19999</th>\n",
       "      <td>0.815</td>\n",
       "      <td>0.67</td>\n",
       "      <td>normal</td>\n",
       "      <td>[0, 1, 0]</td>\n",
       "    </tr>\n",
       "  </tbody>\n",
       "</table>\n",
       "<p>20000 rows × 4 columns</p>\n",
       "</div>"
      ],
      "text/plain": [
       "       height  weight   label  label_pat\n",
       "0       0.710    0.62     fat  [0, 0, 1]\n",
       "1       0.710    0.73     fat  [0, 0, 1]\n",
       "2       0.885    0.61  normal  [0, 1, 0]\n",
       "3       0.935    0.48    thin  [1, 0, 0]\n",
       "4       0.765    0.60     fat  [0, 0, 1]\n",
       "...       ...     ...     ...        ...\n",
       "19995   0.610    0.58     fat  [0, 0, 1]\n",
       "19996   0.965    0.69  normal  [0, 1, 0]\n",
       "19997   0.965    0.37    thin  [1, 0, 0]\n",
       "19998   0.975    0.51    thin  [1, 0, 0]\n",
       "19999   0.815    0.67  normal  [0, 1, 0]\n",
       "\n",
       "[20000 rows x 4 columns]"
      ]
     },
     "execution_count": 28,
     "metadata": {},
     "output_type": "execute_result"
    }
   ],
   "source": [
    "# 레이블을 배열로 변환하기 --- (※3)\n",
    "# - thin=(1,0,0) / normal=(0,1,0) / fat=(0,0,1)\n",
    "bclass = {\"thin\": [1,0,0], \"normal\": [0,1,0], \"fat\": [0,0,1]} # 원핫인코딩 방식이다. \n",
    "csv[\"label_pat\"] = csv[\"label\"].apply(lambda x : np.array(bclass[x]))\n",
    "csv"
   ]
  },
  {
   "cell_type": "code",
   "execution_count": 19,
   "id": "dcb43d5e",
   "metadata": {},
   "outputs": [],
   "source": [
    "# 테스트를 위한 데이터 분류 --- (※4)\n",
    "test_csv = csv[15000:20000] # 인위적으로 분할함\n",
    "test_pat = test_csv[[\"weight\",\"height\"]]\n",
    "test_ans = list(test_csv[\"label_pat\"]) "
   ]
  },
  {
   "cell_type": "code",
   "execution_count": 20,
   "id": "ff56d3e9",
   "metadata": {},
   "outputs": [],
   "source": [
    "# 플레이스홀더 선언하기--- (※5)\n",
    "x = tf.placeholder(tf.float32, [None, 2]) # 키와 몸무게 데이터 넣기.2차원구조\n",
    "y_ = tf.placeholder(tf.float32, [None, 3]) # 열이 3인 이유는 \n",
    "sess.close() "
   ]
  },
  {
   "cell_type": "code",
   "execution_count": 21,
   "id": "6825e377",
   "metadata": {},
   "outputs": [],
   "source": [
    "# 변수 선언하기 --- (※6)\n",
    "W = tf.Variable(tf.zeros([2, 3])); # 가중치\n",
    "b = tf.Variable(tf.zeros([3])); # 바이어스"
   ]
  },
  {
   "cell_type": "code",
   "execution_count": 22,
   "id": "27617eba",
   "metadata": {},
   "outputs": [],
   "source": [
    "# 소프트맥스 회귀 정의하기 --- (※7)\n",
    "y = tf.nn.softmax(tf.matmul(x, W) + b)  # 행렬 간 곱셈연산을 하는 함수가 matmul이다."
   ]
  },
  {
   "cell_type": "code",
   "execution_count": 23,
   "id": "e92062ea",
   "metadata": {},
   "outputs": [],
   "source": [
    "# 모델 훈련하기 --- (※8)\n",
    "cross_entropy = tf.reduce_mean(tf.nn.softmax_cross_entropy_with_logits_v2(logits=y, labels=y_)) \n",
    "# cross_entropy => 손실값을 계산하는 과정이다.  // 분류작업에 사용되는 손실값(cross entropy)/ 회귀모델에 사용되는 손실값(평균제곱오차)\n",
    "# GradientDescentOptimizer : 경사하강법으로 손실 함수를 최소화하는 모델 파라미터를 찾기 위해 사용\n",
    "# 0.01은 학습률을 의미\n",
    "optimizer =  tf.compat.v1.train.GradientDescentOptimizer(0.01) # w와 b를 자동으로 설정함\n",
    "train = optimizer.minimize(cross_entropy) # 이 연산을 수행하면 손실값이 최소화 될 수 있는 w와 b를 구할 수 있다.\n"
   ]
  },
  {
   "cell_type": "code",
   "execution_count": 24,
   "id": "79512ceb",
   "metadata": {},
   "outputs": [],
   "source": [
    "# 정답률 구하기\n",
    "predict = tf.equal(tf.argmax(y, 1), tf.argmax(y_,1))\n",
    "accuracy = tf.reduce_mean(tf.cast(predict, tf.float32)) # tf.cast() : 캐스트 연산에 사용"
   ]
  },
  {
   "cell_type": "code",
   "execution_count": 25,
   "id": "a385522d",
   "metadata": {},
   "outputs": [],
   "source": [
    "# 세션 시작하기\n",
    "sess = tf.compat.v1.Session()\n",
    "sess.run(tf.global_variables_initializer()) # 변수 초기화하기"
   ]
  },
  {
   "cell_type": "code",
   "execution_count": 26,
   "id": "66ec86b8",
   "metadata": {},
   "outputs": [
    {
     "name": "stdout",
     "output_type": "stream",
     "text": [
      "step= 0 cre= 1.098595 acc= 0.3242\n",
      "step= 500 cre= 1.0949001 acc= 0.3684\n",
      "step= 1000 cre= 1.0968362 acc= 0.3684\n",
      "step= 1500 cre= 1.0890875 acc= 0.3684\n",
      "step= 2000 cre= 1.0854574 acc= 0.3684\n",
      "step= 2500 cre= 1.0907798 acc= 0.3684\n",
      "step= 3000 cre= 1.0794799 acc= 0.3772\n",
      "step= 3500 cre= 1.0763575 acc= 0.4024\n",
      "step= 4000 cre= 1.082489 acc= 0.433\n",
      "step= 4500 cre= 1.0693377 acc= 0.4796\n",
      "step= 5000 cre= 1.0670123 acc= 0.5142\n",
      "step= 5500 cre= 1.0734547 acc= 0.5468\n",
      "step= 6000 cre= 1.058941 acc= 0.5828\n",
      "step= 6500 cre= 1.0574982 acc= 0.6054\n",
      "step= 7000 cre= 1.064285 acc= 0.6246\n",
      "step= 7500 cre= 1.0485251 acc= 0.6442\n",
      "step= 8000 cre= 1.0479634 acc= 0.6528\n",
      "step= 8500 cre= 1.0552124 acc= 0.659\n",
      "step= 9000 cre= 1.038259 acc= 0.6674\n",
      "step= 9500 cre= 1.0385478 acc= 0.6726\n",
      "step= 10000 cre= 1.0463612 acc= 0.6774\n",
      "step= 10500 cre= 1.0282755 acc= 0.6812\n",
      "step= 11000 cre= 1.02937 acc= 0.683\n",
      "step= 11500 cre= 1.0378207 acc= 0.6846\n",
      "step= 12000 cre= 1.018677 acc= 0.6868\n",
      "step= 12500 cre= 1.0205232 acc= 0.6872\n",
      "step= 13000 cre= 1.0296557 acc= 0.6872\n",
      "step= 13500 cre= 1.0095369 acc= 0.6888\n",
      "step= 14000 cre= 1.0120745 acc= 0.6892\n",
      "step= 14500 cre= 1.0219083 acc= 0.6894\n"
     ]
    }
   ],
   "source": [
    "# 학습시키기\n",
    "for step in range(15000):\n",
    "    i = (step * 100) % 15000\n",
    "    rows = csv[1 + i : 1 + i + 100] # 15000개의 데이터가 있으면 일정하게 쪼갠다.\n",
    "    x_pat = rows[[\"weight\",\"height\"]]\n",
    "    y_ans = list(rows[\"label_pat\"])\n",
    "    fd = {x: x_pat, y_: y_ans}\n",
    "    sess.run(train, feed_dict=fd)\n",
    "    if step % 500 == 0:\n",
    "        cre = sess.run(cross_entropy, feed_dict=fd)\n",
    "        acc = sess.run(accuracy, feed_dict={x: test_pat, y_: test_ans})\n",
    "        print(\"step=\", step, \"cre=\", cre, \"acc=\", acc)"
   ]
  },
  {
   "cell_type": "code",
   "execution_count": 27,
   "id": "e5bcd926",
   "metadata": {},
   "outputs": [
    {
     "name": "stdout",
     "output_type": "stream",
     "text": [
      "정답률 = 0.6906\n"
     ]
    }
   ],
   "source": [
    "# 최종적인 정답률 구하기\n",
    "acc = sess.run(accuracy, feed_dict={x: test_pat, y_: test_ans})\n",
    "print(\"정답률 =\", acc)"
   ]
  },
  {
   "cell_type": "markdown",
   "id": "7c9076ed",
   "metadata": {},
   "source": [
    "## 주로 사용하는 버전은 텐서플로 2이다. "
   ]
  },
  {
   "cell_type": "code",
   "execution_count": null,
   "id": "4f570478",
   "metadata": {},
   "outputs": [],
   "source": []
  },
  {
   "cell_type": "code",
   "execution_count": null,
   "id": "6a94669d",
   "metadata": {},
   "outputs": [],
   "source": []
  },
  {
   "cell_type": "code",
   "execution_count": null,
   "id": "de17b391",
   "metadata": {},
   "outputs": [],
   "source": []
  },
  {
   "cell_type": "code",
   "execution_count": null,
   "id": "300b86f5",
   "metadata": {},
   "outputs": [],
   "source": []
  },
  {
   "cell_type": "code",
   "execution_count": null,
   "id": "9be0f319",
   "metadata": {},
   "outputs": [],
   "source": []
  },
  {
   "cell_type": "code",
   "execution_count": null,
   "id": "a825f95a",
   "metadata": {},
   "outputs": [],
   "source": []
  },
  {
   "cell_type": "code",
   "execution_count": null,
   "id": "ab1f33f6",
   "metadata": {},
   "outputs": [],
   "source": []
  },
  {
   "cell_type": "code",
   "execution_count": null,
   "id": "6151e937",
   "metadata": {},
   "outputs": [],
   "source": []
  },
  {
   "cell_type": "code",
   "execution_count": null,
   "id": "16056ed2",
   "metadata": {},
   "outputs": [],
   "source": []
  },
  {
   "cell_type": "code",
   "execution_count": null,
   "id": "70bc8a1d",
   "metadata": {},
   "outputs": [],
   "source": []
  },
  {
   "cell_type": "code",
   "execution_count": null,
   "id": "e9961388",
   "metadata": {},
   "outputs": [],
   "source": []
  },
  {
   "cell_type": "code",
   "execution_count": null,
   "id": "8fce7bce",
   "metadata": {},
   "outputs": [],
   "source": []
  },
  {
   "cell_type": "code",
   "execution_count": null,
   "id": "3fc8bcd9",
   "metadata": {},
   "outputs": [],
   "source": []
  },
  {
   "cell_type": "code",
   "execution_count": null,
   "id": "711ebf5a",
   "metadata": {},
   "outputs": [],
   "source": []
  },
  {
   "cell_type": "code",
   "execution_count": null,
   "id": "71d0b54a",
   "metadata": {},
   "outputs": [],
   "source": []
  },
  {
   "cell_type": "code",
   "execution_count": null,
   "id": "ecaef80a",
   "metadata": {},
   "outputs": [],
   "source": []
  },
  {
   "cell_type": "code",
   "execution_count": null,
   "id": "247d71cf",
   "metadata": {},
   "outputs": [],
   "source": []
  },
  {
   "cell_type": "code",
   "execution_count": null,
   "id": "f576234a",
   "metadata": {},
   "outputs": [],
   "source": []
  }
 ],
 "metadata": {
  "kernelspec": {
   "display_name": "Python 3 (ipykernel)",
   "language": "python",
   "name": "python3"
  },
  "language_info": {
   "codemirror_mode": {
    "name": "ipython",
    "version": 3
   },
   "file_extension": ".py",
   "mimetype": "text/x-python",
   "name": "python",
   "nbconvert_exporter": "python",
   "pygments_lexer": "ipython3",
   "version": "3.7.9"
  }
 },
 "nbformat": 4,
 "nbformat_minor": 5
}
